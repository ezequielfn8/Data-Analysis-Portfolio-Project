{
 "cells": [
  {
   "cell_type": "markdown",
   "metadata": {},
   "source": [
    "# Introduction\n",
    "\n",
    "For this project, I will interpret data from the National Parks Service about endangered species in different parks of the United States.\n",
    "\n",
    "I will perform some data analysis on the conservation statuses of these species and investigate if there are any patterns or themes to the types of species that become endangered. During this project, I will analyze, clean up, and plot data as well as pose questions and seek to answer them in a meaningful way.\n",
    "\n",
    "## Scoping\n",
    "It is always important to create a project scope to start a new project. The scope will consist of four steps: project goals, actions and data, analysis, and the evaluation of each step to build conclusions and to communicate findings in a more effective way.\n",
    "\n",
    "### 1. Project goals\n",
    "\n",
    "The goals for this project are the following:\n",
    "\n",
    "-Perform Data Analysis on the conservation statuses of the different species of the National Park Service dataset.\n",
    "-Investigate if there are any patterns or themes to the types of species that become endangered.\n",
    "-Understand the characteristics about the species and their conservations status, and those species and their relationship to the national parks.\n",
    "\n",
    "### 2. Actions and Data\n",
    "\n",
    "The actions that will be followed to work toward the goals of the project are the analysis of the two datasets provided by CodeCademy.com, called Observations.csv and Species_info.csv, as well as one third dataset, Joined_table.csv, that consists of the two previous one joined together, to get even more insightful information.\n",
    "\n",
    "\n",
    "### 3. Analysis\n",
    "\n",
    "Initially, the analysis will be conducted on the following questions:\n",
    "\n",
    "- How many species are in each type of conservation status? How is it distributed?\n",
    "- Which category of species are the most endangered? Which one are the least ones?\n",
    "- Which park has seen the most endangered species?\n",
    "- Are certain types of species more likely to be endangered?\n",
    "- Are the differences between species and their conservation status significant?\n",
    "- Which animal is most prevalent among observations and what is their distribution amongst parks?\n",
    "- Which endangered species has been the most seen at all parks? And at each park? VER AL FINAL\n",
    "\n",
    "\n",
    "### 4. Evaluation\n",
    "Lastly, it's a good idea to revisit the goals and check if the output of the analysis corresponds to the questions first set to be answered (in the goals section). This section will also reflect on what has been learned through the process, and if any of the questions were unable to be answered. This could also include limitations or if any of the analysis could have been done using different methodologies.\n",
    "\n"
   ]
  },
  {
   "cell_type": "markdown",
   "metadata": {},
   "source": [
    "# Import the Modules\n",
    "\n",
    "The first thing to do, is to import the Python Modules to be used in this project."
   ]
  },
  {
   "cell_type": "code",
   "execution_count": 1,
   "metadata": {},
   "outputs": [],
   "source": [
    "import pandas as pd\n",
    "pd.set_option('display.max_colwidth', None)\n",
    "import numpy as np\n",
    "from matplotlib import pyplot as plt\n",
    "from scipy import stats"
   ]
  },
  {
   "cell_type": "markdown",
   "metadata": {},
   "source": [
    "# Load the Data\n",
    "\n",
    "To begin our work, we will import the datasets which will be used to work with.\n",
    "\n",
    "In this case, the dataset will be three:\n",
    "### Observations.csv dataset:\n",
    "This file contains information from sightings of species at four national parks in the last 7 days. The columns are the following:\n",
    "\n",
    "-**scientific_name**: The name of each species.\n",
    "\n",
    "-**park_name**: The National Park where the specific sightings have been recorded.\n",
    "\n",
    "-**observations**: The number of observations in the 7-day period.\n",
    "\n",
    "In the same line where we read the .csv file with the pandas library, I am also dropping the duplicate values."
   ]
  },
  {
   "cell_type": "code",
   "execution_count": 2,
   "metadata": {},
   "outputs": [
    {
     "data": {
      "text/html": [
       "<div>\n",
       "<style scoped>\n",
       "    .dataframe tbody tr th:only-of-type {\n",
       "        vertical-align: middle;\n",
       "    }\n",
       "\n",
       "    .dataframe tbody tr th {\n",
       "        vertical-align: top;\n",
       "    }\n",
       "\n",
       "    .dataframe thead th {\n",
       "        text-align: right;\n",
       "    }\n",
       "</style>\n",
       "<table border=\"1\" class=\"dataframe\">\n",
       "  <thead>\n",
       "    <tr style=\"text-align: right;\">\n",
       "      <th></th>\n",
       "      <th>index</th>\n",
       "      <th>scientific_name</th>\n",
       "      <th>park_name</th>\n",
       "      <th>observations</th>\n",
       "    </tr>\n",
       "  </thead>\n",
       "  <tbody>\n",
       "    <tr>\n",
       "      <th>0</th>\n",
       "      <td>0</td>\n",
       "      <td>Vicia benghalensis</td>\n",
       "      <td>Great Smoky Mountains National Park</td>\n",
       "      <td>68</td>\n",
       "    </tr>\n",
       "    <tr>\n",
       "      <th>1</th>\n",
       "      <td>1</td>\n",
       "      <td>Neovison vison</td>\n",
       "      <td>Great Smoky Mountains National Park</td>\n",
       "      <td>77</td>\n",
       "    </tr>\n",
       "    <tr>\n",
       "      <th>2</th>\n",
       "      <td>2</td>\n",
       "      <td>Prunus subcordata</td>\n",
       "      <td>Yosemite National Park</td>\n",
       "      <td>138</td>\n",
       "    </tr>\n",
       "    <tr>\n",
       "      <th>3</th>\n",
       "      <td>3</td>\n",
       "      <td>Abutilon theophrasti</td>\n",
       "      <td>Bryce National Park</td>\n",
       "      <td>84</td>\n",
       "    </tr>\n",
       "    <tr>\n",
       "      <th>4</th>\n",
       "      <td>4</td>\n",
       "      <td>Githopsis specularioides</td>\n",
       "      <td>Great Smoky Mountains National Park</td>\n",
       "      <td>85</td>\n",
       "    </tr>\n",
       "  </tbody>\n",
       "</table>\n",
       "</div>"
      ],
      "text/plain": [
       "   index           scientific_name                            park_name  \\\n",
       "0      0        Vicia benghalensis  Great Smoky Mountains National Park   \n",
       "1      1            Neovison vison  Great Smoky Mountains National Park   \n",
       "2      2         Prunus subcordata               Yosemite National Park   \n",
       "3      3      Abutilon theophrasti                  Bryce National Park   \n",
       "4      4  Githopsis specularioides  Great Smoky Mountains National Park   \n",
       "\n",
       "   observations  \n",
       "0            68  \n",
       "1            77  \n",
       "2           138  \n",
       "3            84  \n",
       "4            85  "
      ]
     },
     "execution_count": 2,
     "metadata": {},
     "output_type": "execute_result"
    }
   ],
   "source": [
    "observations = pd.read_csv('observations.csv').drop_duplicates().reset_index()\n",
    "observations.head()"
   ]
  },
  {
   "cell_type": "code",
   "execution_count": 3,
   "metadata": {},
   "outputs": [
    {
     "name": "stdout",
     "output_type": "stream",
     "text": [
      "<class 'pandas.core.frame.DataFrame'>\n",
      "RangeIndex: 23281 entries, 0 to 23280\n",
      "Data columns (total 4 columns):\n",
      " #   Column           Non-Null Count  Dtype \n",
      "---  ------           --------------  ----- \n",
      " 0   index            23281 non-null  int64 \n",
      " 1   scientific_name  23281 non-null  object\n",
      " 2   park_name        23281 non-null  object\n",
      " 3   observations     23281 non-null  int64 \n",
      "dtypes: int64(2), object(2)\n",
      "memory usage: 727.7+ KB\n"
     ]
    }
   ],
   "source": [
    "#We also can see the lenght of this dataset, and look if there are any empty values.\n",
    "observations.info()"
   ]
  },
  {
   "cell_type": "markdown",
   "metadata": {},
   "source": [
    "### Species_info.csv dataset:\n",
    "This file contains information of the species that has been seen around the National Parks. The columns are the following:\n",
    "\n",
    "-**category**: The category in which the species are classified.\n",
    "\n",
    "-**scientific_name**: The name of each species.\n",
    "\n",
    "-**common_names**: The common name for each species.\n",
    "\n",
    "-**conservation_status**: The level of endangerment (or not) of each species.\n",
    "\n",
    "In this case, I focused in dropping the duplicate values taking the scientific_name column, to be sure I am not working with the same species two times in the same dataset."
   ]
  },
  {
   "cell_type": "code",
   "execution_count": 4,
   "metadata": {},
   "outputs": [
    {
     "data": {
      "text/html": [
       "<div>\n",
       "<style scoped>\n",
       "    .dataframe tbody tr th:only-of-type {\n",
       "        vertical-align: middle;\n",
       "    }\n",
       "\n",
       "    .dataframe tbody tr th {\n",
       "        vertical-align: top;\n",
       "    }\n",
       "\n",
       "    .dataframe thead th {\n",
       "        text-align: right;\n",
       "    }\n",
       "</style>\n",
       "<table border=\"1\" class=\"dataframe\">\n",
       "  <thead>\n",
       "    <tr style=\"text-align: right;\">\n",
       "      <th></th>\n",
       "      <th>index</th>\n",
       "      <th>category</th>\n",
       "      <th>scientific_name</th>\n",
       "      <th>common_names</th>\n",
       "      <th>conservation_status</th>\n",
       "    </tr>\n",
       "  </thead>\n",
       "  <tbody>\n",
       "    <tr>\n",
       "      <th>0</th>\n",
       "      <td>0</td>\n",
       "      <td>Mammal</td>\n",
       "      <td>Clethrionomys gapperi gapperi</td>\n",
       "      <td>Gapper's Red-Backed Vole</td>\n",
       "      <td>NaN</td>\n",
       "    </tr>\n",
       "    <tr>\n",
       "      <th>1</th>\n",
       "      <td>1</td>\n",
       "      <td>Mammal</td>\n",
       "      <td>Bos bison</td>\n",
       "      <td>American Bison, Bison</td>\n",
       "      <td>NaN</td>\n",
       "    </tr>\n",
       "    <tr>\n",
       "      <th>2</th>\n",
       "      <td>2</td>\n",
       "      <td>Mammal</td>\n",
       "      <td>Bos taurus</td>\n",
       "      <td>Aurochs, Aurochs, Domestic Cattle (Feral), Domesticated Cattle</td>\n",
       "      <td>NaN</td>\n",
       "    </tr>\n",
       "    <tr>\n",
       "      <th>3</th>\n",
       "      <td>3</td>\n",
       "      <td>Mammal</td>\n",
       "      <td>Ovis aries</td>\n",
       "      <td>Domestic Sheep, Mouflon, Red Sheep, Sheep (Feral)</td>\n",
       "      <td>NaN</td>\n",
       "    </tr>\n",
       "    <tr>\n",
       "      <th>4</th>\n",
       "      <td>4</td>\n",
       "      <td>Mammal</td>\n",
       "      <td>Cervus elaphus</td>\n",
       "      <td>Wapiti Or Elk</td>\n",
       "      <td>NaN</td>\n",
       "    </tr>\n",
       "  </tbody>\n",
       "</table>\n",
       "</div>"
      ],
      "text/plain": [
       "   index category                scientific_name  \\\n",
       "0      0   Mammal  Clethrionomys gapperi gapperi   \n",
       "1      1   Mammal                      Bos bison   \n",
       "2      2   Mammal                     Bos taurus   \n",
       "3      3   Mammal                     Ovis aries   \n",
       "4      4   Mammal                 Cervus elaphus   \n",
       "\n",
       "                                                     common_names  \\\n",
       "0                                        Gapper's Red-Backed Vole   \n",
       "1                                           American Bison, Bison   \n",
       "2  Aurochs, Aurochs, Domestic Cattle (Feral), Domesticated Cattle   \n",
       "3               Domestic Sheep, Mouflon, Red Sheep, Sheep (Feral)   \n",
       "4                                                   Wapiti Or Elk   \n",
       "\n",
       "  conservation_status  \n",
       "0                 NaN  \n",
       "1                 NaN  \n",
       "2                 NaN  \n",
       "3                 NaN  \n",
       "4                 NaN  "
      ]
     },
     "execution_count": 4,
     "metadata": {},
     "output_type": "execute_result"
    }
   ],
   "source": [
    "species_info = pd.read_csv(\"species_info.csv\").drop_duplicates(subset = ['scientific_name']).reset_index()\n",
    "species_info.head(5)"
   ]
  },
  {
   "cell_type": "code",
   "execution_count": 5,
   "metadata": {},
   "outputs": [
    {
     "name": "stdout",
     "output_type": "stream",
     "text": [
      "<class 'pandas.core.frame.DataFrame'>\n",
      "RangeIndex: 5541 entries, 0 to 5540\n",
      "Data columns (total 5 columns):\n",
      " #   Column               Non-Null Count  Dtype \n",
      "---  ------               --------------  ----- \n",
      " 0   index                5541 non-null   int64 \n",
      " 1   category             5541 non-null   object\n",
      " 2   scientific_name      5541 non-null   object\n",
      " 3   common_names         5541 non-null   object\n",
      " 4   conservation_status  178 non-null    object\n",
      "dtypes: int64(1), object(4)\n",
      "memory usage: 216.6+ KB\n",
      "None\n"
     ]
    }
   ],
   "source": [
    "#Printing the table info, we gain our first insight of this dataset. Only 178 entries of this table are of endangered species.\n",
    "\n",
    "print(species_info.info())"
   ]
  },
  {
   "cell_type": "code",
   "execution_count": 6,
   "metadata": {},
   "outputs": [
    {
     "data": {
      "text/html": [
       "<div>\n",
       "<style scoped>\n",
       "    .dataframe tbody tr th:only-of-type {\n",
       "        vertical-align: middle;\n",
       "    }\n",
       "\n",
       "    .dataframe tbody tr th {\n",
       "        vertical-align: top;\n",
       "    }\n",
       "\n",
       "    .dataframe thead th {\n",
       "        text-align: right;\n",
       "    }\n",
       "</style>\n",
       "<table border=\"1\" class=\"dataframe\">\n",
       "  <thead>\n",
       "    <tr style=\"text-align: right;\">\n",
       "      <th></th>\n",
       "      <th>index</th>\n",
       "      <th>scientific_name</th>\n",
       "      <th>common_names</th>\n",
       "      <th>category</th>\n",
       "      <th>park_name</th>\n",
       "      <th>observations</th>\n",
       "      <th>conservation_status</th>\n",
       "    </tr>\n",
       "  </thead>\n",
       "  <tbody>\n",
       "    <tr>\n",
       "      <th>0</th>\n",
       "      <td>0</td>\n",
       "      <td>Vicia benghalensis</td>\n",
       "      <td>Purple Vetch, Reddish Tufted Vetch</td>\n",
       "      <td>Vascular Plant</td>\n",
       "      <td>Great Smoky Mountains National Park</td>\n",
       "      <td>68</td>\n",
       "      <td>NaN</td>\n",
       "    </tr>\n",
       "    <tr>\n",
       "      <th>1</th>\n",
       "      <td>1</td>\n",
       "      <td>Neovison vison</td>\n",
       "      <td>American Mink</td>\n",
       "      <td>Mammal</td>\n",
       "      <td>Great Smoky Mountains National Park</td>\n",
       "      <td>77</td>\n",
       "      <td>NaN</td>\n",
       "    </tr>\n",
       "    <tr>\n",
       "      <th>2</th>\n",
       "      <td>2</td>\n",
       "      <td>Prunus subcordata</td>\n",
       "      <td>Klamath Plum</td>\n",
       "      <td>Vascular Plant</td>\n",
       "      <td>Yosemite National Park</td>\n",
       "      <td>138</td>\n",
       "      <td>NaN</td>\n",
       "    </tr>\n",
       "    <tr>\n",
       "      <th>3</th>\n",
       "      <td>3</td>\n",
       "      <td>Abutilon theophrasti</td>\n",
       "      <td>Velvetleaf</td>\n",
       "      <td>Vascular Plant</td>\n",
       "      <td>Bryce National Park</td>\n",
       "      <td>84</td>\n",
       "      <td>NaN</td>\n",
       "    </tr>\n",
       "    <tr>\n",
       "      <th>4</th>\n",
       "      <td>4</td>\n",
       "      <td>Githopsis specularioides</td>\n",
       "      <td>Common Bluecup</td>\n",
       "      <td>Vascular Plant</td>\n",
       "      <td>Great Smoky Mountains National Park</td>\n",
       "      <td>85</td>\n",
       "      <td>NaN</td>\n",
       "    </tr>\n",
       "  </tbody>\n",
       "</table>\n",
       "</div>"
      ],
      "text/plain": [
       "   index           scientific_name                        common_names  \\\n",
       "0      0        Vicia benghalensis  Purple Vetch, Reddish Tufted Vetch   \n",
       "1      1            Neovison vison                       American Mink   \n",
       "2      2         Prunus subcordata                        Klamath Plum   \n",
       "3      3      Abutilon theophrasti                          Velvetleaf   \n",
       "4      4  Githopsis specularioides                      Common Bluecup   \n",
       "\n",
       "         category                            park_name  observations  \\\n",
       "0  Vascular Plant  Great Smoky Mountains National Park            68   \n",
       "1          Mammal  Great Smoky Mountains National Park            77   \n",
       "2  Vascular Plant               Yosemite National Park           138   \n",
       "3  Vascular Plant                  Bryce National Park            84   \n",
       "4  Vascular Plant  Great Smoky Mountains National Park            85   \n",
       "\n",
       "  conservation_status  \n",
       "0                 NaN  \n",
       "1                 NaN  \n",
       "2                 NaN  \n",
       "3                 NaN  \n",
       "4                 NaN  "
      ]
     },
     "execution_count": 6,
     "metadata": {},
     "output_type": "execute_result"
    }
   ],
   "source": [
    "#With an SQL statement (made in DB Browser for SQLite), I made a cross join of both datasets, into another .csv file, called joined_table\n",
    "joined_table = pd.read_csv(\"joinedtable.csv\").drop_duplicates().reset_index()\n",
    "joined_table.head()"
   ]
  },
  {
   "cell_type": "markdown",
   "metadata": {},
   "source": [
    "## Analyzing the datasets\n",
    "\n",
    "The first thing to do was exploring the species dataset to find out how many categories are on it. Also, I found out how many conservation statuses were, and how many of the 5541 species were in each conservation status."
   ]
  },
  {
   "cell_type": "code",
   "execution_count": 7,
   "metadata": {},
   "outputs": [
    {
     "name": "stdout",
     "output_type": "stream",
     "text": [
      "Number of categories: 7\n",
      "The different categories in the species dataset are: ['Mammal' 'Bird' 'Reptile' 'Amphibian' 'Fish' 'Vascular Plant'\n",
      " 'Nonvascular Plant']\n"
     ]
    }
   ],
   "source": [
    "print(\"Number of categories: \" + str(species_info.category.nunique()))\n",
    "different_categories = species_info.category.unique()\n",
    "print(\"The different categories in the species dataset are: {}\".format(different_categories))"
   ]
  },
  {
   "cell_type": "code",
   "execution_count": 8,
   "metadata": {},
   "outputs": [
    {
     "data": {
      "text/plain": [
       "category\n",
       "Vascular Plant       4262\n",
       "Bird                  488\n",
       "Nonvascular Plant     333\n",
       "Mammal                176\n",
       "Fish                  125\n",
       "Amphibian              79\n",
       "Reptile                78\n",
       "dtype: int64"
      ]
     },
     "execution_count": 8,
     "metadata": {},
     "output_type": "execute_result"
    }
   ],
   "source": [
    "#I quickly found out that the Vascular Plants were by far the most common category on this dataset.\n",
    "\n",
    "species_info.groupby('category').size().sort_values(ascending=False)"
   ]
  },
  {
   "cell_type": "markdown",
   "metadata": {},
   "source": [
    "After the first look on the categories, I wanted to see how many of the species are in a danger situation. As the National Parks Service should be more interested in this kind of species rather than the ones which are not endangered, I left the NaN column aside for now, so the graphs could represent better what they should want to see."
   ]
  },
  {
   "cell_type": "code",
   "execution_count": 9,
   "metadata": {},
   "outputs": [
    {
     "name": "stdout",
     "output_type": "stream",
     "text": [
      "The different types of conservation statuses are: [nan 'Species of Concern' 'Endangered' 'Threatened' 'In Recovery']\n"
     ]
    }
   ],
   "source": [
    "types_of_conservation = species_info.conservation_status.unique()\n",
    "print(\"The different types of conservation statuses are: \"+ str(types_of_conservation))"
   ]
  },
  {
   "cell_type": "code",
   "execution_count": 10,
   "metadata": {},
   "outputs": [
    {
     "name": "stdout",
     "output_type": "stream",
     "text": [
      "conservation_status\n",
      "Species of Concern    151\n",
      "Endangered             15\n",
      "Threatened              9\n",
      "In Recovery             3\n",
      "Name: index, dtype: int64\n"
     ]
    }
   ],
   "source": [
    "conservation_status_count = species_info.groupby(\"conservation_status\").index.count()\n",
    "conservation_status_sorted = conservation_status_count.sort_values(ascending = False)\n",
    "print(conservation_status_sorted)"
   ]
  },
  {
   "cell_type": "markdown",
   "metadata": {},
   "source": [
    "With this information, I went on to make the first visualization. The pie chart can make a good impression about how the Species of Concern are a lot more than any other category of species in danger."
   ]
  },
  {
   "cell_type": "code",
   "execution_count": 11,
   "metadata": {},
   "outputs": [
    {
     "data": {
      "image/png": "[encoded data removed]",
      "text/plain": [
       "<Figure size 504x504 with 1 Axes>"
      ]
     },
     "metadata": {},
     "output_type": "display_data"
    }
   ],
   "source": [
    "species_of_concern = 0\n",
    "endangered = 0\n",
    "threatened = 0\n",
    "in_recovery = 0\n",
    "not_endangered = 0\n",
    "\n",
    "for item in species_info.conservation_status:\n",
    "    if item == \"Species of Concern\":\n",
    "        species_of_concern +=1\n",
    "    elif item == \"Endangered\":\n",
    "        endangered += 1\n",
    "    elif item == \"Threatened\":\n",
    "        threatened +=1\n",
    "    elif item == \"In Recovery\":\n",
    "        in_recovery += 1\n",
    "    else:\n",
    "        not_endangered +=1\n",
    "        \n",
    "list_to_bar = [species_of_concern, endangered, threatened,in_recovery]\n",
    "labels_to_bar = \"Species of Concern\", \"Endangered Species\", \"Threatened Species\", \"Species In Recovery\"\n",
    "\n",
    "def make_autopct(values):\n",
    "       def my_autopct(pct):\n",
    "           total = sum(values)\n",
    "           val = int(round(pct*total/100.0))\n",
    "           return '{p:.2f}%  ({v:d})'.format(p=pct,v=val)\n",
    "       return my_autopct\n",
    "\n",
    "plt.figure(figsize = (7,7))\n",
    "plt.pie(list_to_bar, labels = labels_to_bar, autopct = make_autopct(list_to_bar), pctdistance =0.7, startangle = 5,  textprops={'fontsize': 13})\n",
    "plt.axis(\"equal\")\n",
    "plt.title(\"Conservation Status: Species in Danger\", fontsize = (18))\n",
    "plt.show()"
   ]
  },
  {
   "cell_type": "markdown",
   "metadata": {},
   "source": [
    "A second graph was really useful to be added here. I just showed how is the distribution of the conservation status among species in danger. Then, I made a bar plot of the amount of each category of species that was in danger to be extinct."
   ]
  },
  {
   "cell_type": "code",
   "execution_count": 12,
   "metadata": {},
   "outputs": [
    {
     "name": "stdout",
     "output_type": "stream",
     "text": [
      "category\n",
      "Bird                 75\n",
      "Vascular Plant       46\n",
      "Mammal               30\n",
      "Fish                 10\n",
      "Amphibian             7\n",
      "Reptile               5\n",
      "Nonvascular Plant     5\n",
      "Name: conservation_status, dtype: int64\n"
     ]
    },
    {
     "data": {
      "image/png": "[encoded data removed]",
      "text/plain": [
       "<Figure size 648x432 with 1 Axes>"
      ]
     },
     "metadata": {
      "needs_background": "light"
     },
     "output_type": "display_data"
    }
   ],
   "source": [
    "most_endangered = species_info.groupby(\"category\").conservation_status.count()\n",
    "most_endangered_sorted = most_endangered.sort_values(ascending = False)\n",
    "print(most_endangered_sorted)\n",
    "labels = ['Bird', 'Vascular Plant', 'Mammal', 'Fish', 'Amphibian', 'Reptile', 'Nonvascular Plant']\n",
    "\n",
    "\n",
    "plt.figure(figsize = (9,6))\n",
    "ax = plt.subplot(1,1,1)\n",
    "plt.bar(range(len(most_endangered_sorted)), most_endangered_sorted, color = ['red', 'red', 'red', 'green', 'green', 'green', 'green'])\n",
    "plt.xlabel(\"Category\", size = 14)\n",
    "plt.ylabel(\"Amount of species in danger\", size = 14)\n",
    "plt.title(\"Species in danger by category\", size = 16)\n",
    "ax.set_xticks(range(len(labels)))\n",
    "ax.set_xticklabels(labels, rotation = 20, size = 12)\n",
    "plt.legend([\"Red: Most endangered\"])\n",
    "plt.show()"
   ]
  },
  {
   "cell_type": "markdown",
   "metadata": {},
   "source": [
    "After this two graphics, I made one more bar plot combining all this information in one visualization. Here, we can get even more insights to share in the evaluation section."
   ]
  },
  {
   "cell_type": "code",
   "execution_count": 13,
   "metadata": {},
   "outputs": [
    {
     "data": {
      "text/html": [
       "<div>\n",
       "<style scoped>\n",
       "    .dataframe tbody tr th:only-of-type {\n",
       "        vertical-align: middle;\n",
       "    }\n",
       "\n",
       "    .dataframe tbody tr th {\n",
       "        vertical-align: top;\n",
       "    }\n",
       "\n",
       "    .dataframe thead th {\n",
       "        text-align: right;\n",
       "    }\n",
       "</style>\n",
       "<table border=\"1\" class=\"dataframe\">\n",
       "  <thead>\n",
       "    <tr style=\"text-align: right;\">\n",
       "      <th>category</th>\n",
       "      <th>Amphibian</th>\n",
       "      <th>Bird</th>\n",
       "      <th>Fish</th>\n",
       "      <th>Mammal</th>\n",
       "      <th>Nonvascular Plant</th>\n",
       "      <th>Reptile</th>\n",
       "      <th>Vascular Plant</th>\n",
       "    </tr>\n",
       "    <tr>\n",
       "      <th>conservation_status</th>\n",
       "      <th></th>\n",
       "      <th></th>\n",
       "      <th></th>\n",
       "      <th></th>\n",
       "      <th></th>\n",
       "      <th></th>\n",
       "      <th></th>\n",
       "    </tr>\n",
       "  </thead>\n",
       "  <tbody>\n",
       "    <tr>\n",
       "      <th>Endangered</th>\n",
       "      <td>1.0</td>\n",
       "      <td>4.0</td>\n",
       "      <td>3.0</td>\n",
       "      <td>6.0</td>\n",
       "      <td>NaN</td>\n",
       "      <td>NaN</td>\n",
       "      <td>1.0</td>\n",
       "    </tr>\n",
       "    <tr>\n",
       "      <th>In Recovery</th>\n",
       "      <td>NaN</td>\n",
       "      <td>3.0</td>\n",
       "      <td>NaN</td>\n",
       "      <td>NaN</td>\n",
       "      <td>NaN</td>\n",
       "      <td>NaN</td>\n",
       "      <td>NaN</td>\n",
       "    </tr>\n",
       "    <tr>\n",
       "      <th>Species of Concern</th>\n",
       "      <td>4.0</td>\n",
       "      <td>68.0</td>\n",
       "      <td>4.0</td>\n",
       "      <td>22.0</td>\n",
       "      <td>5.0</td>\n",
       "      <td>5.0</td>\n",
       "      <td>43.0</td>\n",
       "    </tr>\n",
       "    <tr>\n",
       "      <th>Threatened</th>\n",
       "      <td>2.0</td>\n",
       "      <td>NaN</td>\n",
       "      <td>3.0</td>\n",
       "      <td>2.0</td>\n",
       "      <td>NaN</td>\n",
       "      <td>NaN</td>\n",
       "      <td>2.0</td>\n",
       "    </tr>\n",
       "  </tbody>\n",
       "</table>\n",
       "</div>"
      ],
      "text/plain": [
       "category             Amphibian  Bird  Fish  Mammal  Nonvascular Plant  \\\n",
       "conservation_status                                                     \n",
       "Endangered                 1.0   4.0   3.0     6.0                NaN   \n",
       "In Recovery                NaN   3.0   NaN     NaN                NaN   \n",
       "Species of Concern         4.0  68.0   4.0    22.0                5.0   \n",
       "Threatened                 2.0   NaN   3.0     2.0                NaN   \n",
       "\n",
       "category             Reptile  Vascular Plant  \n",
       "conservation_status                           \n",
       "Endangered               NaN             1.0  \n",
       "In Recovery              NaN             NaN  \n",
       "Species of Concern       5.0            43.0  \n",
       "Threatened               NaN             2.0  "
      ]
     },
     "execution_count": 13,
     "metadata": {},
     "output_type": "execute_result"
    }
   ],
   "source": [
    "conservationcategories = species_info.groupby([\"conservation_status\", \"category\"]).scientific_name.count().unstack()\n",
    "\n",
    "conservationcategories"
   ]
  },
  {
   "cell_type": "code",
   "execution_count": 14,
   "metadata": {},
   "outputs": [
    {
     "data": {
      "image/png": "[encoded data removed]",
      "text/plain": [
       "<Figure size 720x504 with 1 Axes>"
      ]
     },
     "metadata": {
      "needs_background": "light"
     },
     "output_type": "display_data"
    }
   ],
   "source": [
    "ax = conservationcategories.plot.bar(figsize=(10,7), stacked=True)\n",
    "plt.xlabel(\"Conservation Status\", size = 13)\n",
    "plt.ylabel(\"Number of Species\", size = 13)\n",
    "plt.title(\"Number of endangered species by Category and Status\", size = 16)\n",
    "plt.show()"
   ]
  },
  {
   "cell_type": "markdown",
   "metadata": {},
   "source": [
    "One more question I made myself about the number of species in danger was how many of each category were actually on their way to become extinct if no action is taken. The percentage here was the best statistic to use to find this out."
   ]
  },
  {
   "cell_type": "code",
   "execution_count": 15,
   "metadata": {},
   "outputs": [
    {
     "name": "stdout",
     "output_type": "stream",
     "text": [
      "            category  not_in_danger  is_in_danger  percentage\n",
      "0          Amphibian             72             7        8.86\n",
      "1               Bird            413            75       15.37\n",
      "2               Fish            115            10        8.00\n",
      "3             Mammal            146            30       17.05\n",
      "4  Nonvascular Plant            328             5        1.50\n",
      "5            Reptile             73             5        6.41\n",
      "6     Vascular Plant           4216            46        1.08\n"
     ]
    }
   ],
   "source": [
    "species_info.fillna('Not in danger', inplace = True)\n",
    "species_info['is_in_danger'] = species_info.conservation_status != 'Not in danger'\n",
    "\n",
    "danger_count = species_info.groupby(['category', 'is_in_danger']).scientific_name.nunique().reset_index()\n",
    "danger_pivoted = danger_count.pivot(columns='is_in_danger',\n",
    "                                      index='category',\n",
    "                                      values='scientific_name').reset_index()\n",
    "danger_pivoted.columns = ['category', 'not_in_danger', 'is_in_danger']\n",
    "danger_pivoted['percentage'] = round((danger_pivoted.is_in_danger/(danger_pivoted.is_in_danger + danger_pivoted.not_in_danger) * 100),2)\n",
    "print(danger_pivoted)"
   ]
  },
  {
   "cell_type": "markdown",
   "metadata": {},
   "source": [
    "This calculation showed me that the amount of species in each category had nothing to do with the percentage of the categories' species in danger."
   ]
  },
  {
   "cell_type": "markdown",
   "metadata": {},
   "source": [
    "After reaching this point, it was a good idea to run some hypothesis tests to see if the different categories have statistically significant differences in their conservation status rates. I worked with the **Chi Square test**. The confidence interval I looked for was 95%, so the result of this hypothesis test needed to show a p-value of less of 0.05 to know these differences were not just simply by random chance. "
   ]
  },
  {
   "cell_type": "code",
   "execution_count": 16,
   "metadata": {},
   "outputs": [
    {
     "name": "stdout",
     "output_type": "stream",
     "text": [
      "0.12757669693198975\n",
      "I can be reasonably sure that the difference between both conservation rates is simply showed by random chance\n"
     ]
    }
   ],
   "source": [
    "amphibianvsmammal = [[72,7], [146,30]]\n",
    "_,pval,_,_ = stats.chi2_contingency(amphibianvsmammal)\n",
    "print (pval)\n",
    "if pval <= 0.05:\n",
    "    print(\"I can be reasonably sure that the difference between both conservation rates is NOT simply showed by random chance\")\n",
    "else:\n",
    "    print(\"I can be reasonably sure that the difference between both conservation rates is simply showed by random chance\")"
   ]
  },
  {
   "cell_type": "code",
   "execution_count": 17,
   "metadata": {},
   "outputs": [
    {
     "name": "stdout",
     "output_type": "stream",
     "text": [
      "0.03835559022969898\n",
      "I can be reasonably sure that the difference between both conservation rates is NOT simply showed by random chance\n"
     ]
    }
   ],
   "source": [
    "reptilesvsmammal = [[73,5], [146,30]]\n",
    "_,pval,_,_ = stats.chi2_contingency(reptilesvsmammal)\n",
    "print (pval)\n",
    "if pval <= 0.05:\n",
    "    print(\"I can be reasonably sure that the difference between both conservation rates is NOT simply showed by random chance\")\n",
    "else:\n",
    "    print(\"I can be reasonably sure that the difference between both conservation rates is simply showed by random chance\")"
   ]
  },
  {
   "cell_type": "code",
   "execution_count": 18,
   "metadata": {},
   "outputs": [
    {
     "name": "stdout",
     "output_type": "stream",
     "text": [
      "0.6623419491381985\n",
      "I can be reasonably sure that the difference between both conservation rates is simply showed by random chance\n"
     ]
    }
   ],
   "source": [
    "vascularvsnonvascular = [[4216,46], [328,5]]\n",
    "_,pval,_,_ = stats.chi2_contingency(vascularvsnonvascular)\n",
    "print (pval)\n",
    "if pval <= 0.05:\n",
    "    print(\"I can be reasonably sure that the difference between both conservation rates is NOT simply showed by random chance\")\n",
    "else:\n",
    "    print(\"I can be reasonably sure that the difference between both conservation rates is simply showed by random chance\")"
   ]
  },
  {
   "cell_type": "code",
   "execution_count": 19,
   "metadata": {},
   "outputs": [
    {
     "name": "stdout",
     "output_type": "stream",
     "text": [
      "0.047482425302318096\n",
      "I can be reasonably sure that the difference between both conservation rates is NOT simply showed by random chance\n"
     ]
    }
   ],
   "source": [
    "birdvsfish = [[413,75], [115,10]]\n",
    "_,pval,_,_ = stats.chi2_contingency(birdvsfish)\n",
    "print (pval)\n",
    "if pval <= 0.05:\n",
    "    print(\"I can be reasonably sure that the difference between both conservation rates is NOT simply showed by random chance\")\n",
    "else:\n",
    "    print(\"I can be reasonably sure that the difference between both conservation rates is simply showed by random chance\")"
   ]
  },
  {
   "cell_type": "markdown",
   "metadata": {},
   "source": [
    "After all this work with the species dataset, I combined both datasets to find out how many observations of each species were done in the last 7 days in each park."
   ]
  },
  {
   "cell_type": "code",
   "execution_count": 20,
   "metadata": {},
   "outputs": [
    {
     "data": {
      "image/png": "[encoded data removed]",
      "text/plain": [
       "<Figure size 864x576 with 1 Axes>"
      ]
     },
     "metadata": {
      "needs_background": "light"
     },
     "output_type": "display_data"
    }
   ],
   "source": [
    "observations_7 = joined_table.groupby(['park_name','conservation_status']).observations.sum().unstack()\n",
    "ax = observations_7.plot.bar(figsize = (12,8),stacked = True)\n",
    "plt.xlabel(\"National Park\", size = 14)\n",
    "plt.ylabel(\"Observations in the last 7 days\", size = 14)\n",
    "plt.title(\"Observation of species in danger over the last 7 days\", size = 16)\n",
    "plt.show()"
   ]
  },
  {
   "cell_type": "code",
   "execution_count": 21,
   "metadata": {},
   "outputs": [
    {
     "data": {
      "text/plain": [
       "scientific_name\n",
       "Streptopelia decaocto    256\n",
       "Procyon lotor            247\n",
       "Castor canadensis        243\n",
       "Puma concolor            239\n",
       "Fragaria virginiana      217\n",
       "Name: observations, dtype: int64"
      ]
     },
     "execution_count": 21,
     "metadata": {},
     "output_type": "execute_result"
    }
   ],
   "source": [
    "most_in_gs_mountains = observations[observations.park_name == 'Great Smoky Mountains National Park'].groupby('scientific_name').observations.sum().sort_values(ascending = False)\n",
    "most_in_gs_mountains.head()"
   ]
  },
  {
   "cell_type": "markdown",
   "metadata": {},
   "source": [
    "The next thing I did with the observations table was creating a table to quickly find out which species were the most and least observed and where. In the table created below, with one simple statement it can be sorted by the observations at a specific park, which can be really useful to work with it in a dynamic way."
   ]
  },
  {
   "cell_type": "code",
   "execution_count": 22,
   "metadata": {},
   "outputs": [
    {
     "data": {
      "text/html": [
       "<div>\n",
       "<style scoped>\n",
       "    .dataframe tbody tr th:only-of-type {\n",
       "        vertical-align: middle;\n",
       "    }\n",
       "\n",
       "    .dataframe tbody tr th {\n",
       "        vertical-align: top;\n",
       "    }\n",
       "\n",
       "    .dataframe thead th {\n",
       "        text-align: right;\n",
       "    }\n",
       "</style>\n",
       "<table border=\"1\" class=\"dataframe\">\n",
       "  <thead>\n",
       "    <tr style=\"text-align: right;\">\n",
       "      <th>park_name</th>\n",
       "      <th>Bryce National Park</th>\n",
       "      <th>Great Smoky Mountains National Park</th>\n",
       "      <th>Yellowstone National Park</th>\n",
       "      <th>Yosemite National Park</th>\n",
       "      <th>total_observations</th>\n",
       "    </tr>\n",
       "    <tr>\n",
       "      <th>scientific_name</th>\n",
       "      <th></th>\n",
       "      <th></th>\n",
       "      <th></th>\n",
       "      <th></th>\n",
       "      <th></th>\n",
       "    </tr>\n",
       "  </thead>\n",
       "  <tbody>\n",
       "    <tr>\n",
       "      <th>Holcus lanatus</th>\n",
       "      <td>296</td>\n",
       "      <td>216</td>\n",
       "      <td>805</td>\n",
       "      <td>463</td>\n",
       "      <td>1780</td>\n",
       "    </tr>\n",
       "    <tr>\n",
       "      <th>Castor canadensis</th>\n",
       "      <td>278</td>\n",
       "      <td>243</td>\n",
       "      <td>703</td>\n",
       "      <td>501</td>\n",
       "      <td>1725</td>\n",
       "    </tr>\n",
       "    <tr>\n",
       "      <th>Hypochaeris radicata</th>\n",
       "      <td>294</td>\n",
       "      <td>195</td>\n",
       "      <td>726</td>\n",
       "      <td>505</td>\n",
       "      <td>1720</td>\n",
       "    </tr>\n",
       "    <tr>\n",
       "      <th>Puma concolor</th>\n",
       "      <td>311</td>\n",
       "      <td>239</td>\n",
       "      <td>753</td>\n",
       "      <td>408</td>\n",
       "      <td>1711</td>\n",
       "    </tr>\n",
       "    <tr>\n",
       "      <th>Procyon lotor</th>\n",
       "      <td>247</td>\n",
       "      <td>247</td>\n",
       "      <td>745</td>\n",
       "      <td>453</td>\n",
       "      <td>1692</td>\n",
       "    </tr>\n",
       "  </tbody>\n",
       "</table>\n",
       "</div>"
      ],
      "text/plain": [
       "park_name             Bryce National Park  \\\n",
       "scientific_name                             \n",
       "Holcus lanatus                        296   \n",
       "Castor canadensis                     278   \n",
       "Hypochaeris radicata                  294   \n",
       "Puma concolor                         311   \n",
       "Procyon lotor                         247   \n",
       "\n",
       "park_name             Great Smoky Mountains National Park  \\\n",
       "scientific_name                                             \n",
       "Holcus lanatus                                        216   \n",
       "Castor canadensis                                     243   \n",
       "Hypochaeris radicata                                  195   \n",
       "Puma concolor                                         239   \n",
       "Procyon lotor                                         247   \n",
       "\n",
       "park_name             Yellowstone National Park  Yosemite National Park  \\\n",
       "scientific_name                                                           \n",
       "Holcus lanatus                              805                     463   \n",
       "Castor canadensis                           703                     501   \n",
       "Hypochaeris radicata                        726                     505   \n",
       "Puma concolor                               753                     408   \n",
       "Procyon lotor                               745                     453   \n",
       "\n",
       "park_name             total_observations  \n",
       "scientific_name                           \n",
       "Holcus lanatus                      1780  \n",
       "Castor canadensis                   1725  \n",
       "Hypochaeris radicata                1720  \n",
       "Puma concolor                       1711  \n",
       "Procyon lotor                       1692  "
      ]
     },
     "execution_count": 22,
     "metadata": {},
     "output_type": "execute_result"
    }
   ],
   "source": [
    "observed = observations.groupby('scientific_name').observations.sum().sort_values(ascending = False).reset_index()\n",
    "observed_by_park = observations.groupby(['scientific_name', 'park_name']).observations.sum().sort_values(ascending = False).reset_index()\n",
    "observed_by_park_pivot = observed_by_park.pivot(columns = 'park_name',\n",
    "                                                          index = 'scientific_name',\n",
    "                                                         values = 'observations')\n",
    "observed_by_park_pivot['total_observations'] = observed_by_park_pivot.sum(axis=1)\n",
    "most_observed_total = observed_by_park_pivot.sort_values(by = 'total_observations', ascending = False)\n",
    "most_observed_total.head()"
   ]
  },
  {
   "cell_type": "markdown",
   "metadata": {},
   "source": [
    "I spent more time with this table, searching for the least observed of the species, and also the most observed at each park."
   ]
  },
  {
   "cell_type": "code",
   "execution_count": 23,
   "metadata": {},
   "outputs": [
    {
     "data": {
      "text/html": [
       "<div>\n",
       "<style scoped>\n",
       "    .dataframe tbody tr th:only-of-type {\n",
       "        vertical-align: middle;\n",
       "    }\n",
       "\n",
       "    .dataframe tbody tr th {\n",
       "        vertical-align: top;\n",
       "    }\n",
       "\n",
       "    .dataframe thead th {\n",
       "        text-align: right;\n",
       "    }\n",
       "</style>\n",
       "<table border=\"1\" class=\"dataframe\">\n",
       "  <thead>\n",
       "    <tr style=\"text-align: right;\">\n",
       "      <th>park_name</th>\n",
       "      <th>Bryce National Park</th>\n",
       "      <th>Great Smoky Mountains National Park</th>\n",
       "      <th>Yellowstone National Park</th>\n",
       "      <th>Yosemite National Park</th>\n",
       "      <th>total_observations</th>\n",
       "    </tr>\n",
       "    <tr>\n",
       "      <th>scientific_name</th>\n",
       "      <th></th>\n",
       "      <th></th>\n",
       "      <th></th>\n",
       "      <th></th>\n",
       "      <th></th>\n",
       "    </tr>\n",
       "  </thead>\n",
       "  <tbody>\n",
       "    <tr>\n",
       "      <th>Grus americana</th>\n",
       "      <td>24</td>\n",
       "      <td>13</td>\n",
       "      <td>57</td>\n",
       "      <td>37</td>\n",
       "      <td>131</td>\n",
       "    </tr>\n",
       "    <tr>\n",
       "      <th>Canis rufus</th>\n",
       "      <td>30</td>\n",
       "      <td>13</td>\n",
       "      <td>60</td>\n",
       "      <td>34</td>\n",
       "      <td>137</td>\n",
       "    </tr>\n",
       "    <tr>\n",
       "      <th>Vermivora bachmanii</th>\n",
       "      <td>20</td>\n",
       "      <td>18</td>\n",
       "      <td>58</td>\n",
       "      <td>45</td>\n",
       "      <td>141</td>\n",
       "    </tr>\n",
       "    <tr>\n",
       "      <th>Noturus baileyi</th>\n",
       "      <td>22</td>\n",
       "      <td>23</td>\n",
       "      <td>67</td>\n",
       "      <td>31</td>\n",
       "      <td>143</td>\n",
       "    </tr>\n",
       "    <tr>\n",
       "      <th>Rana sierrae</th>\n",
       "      <td>31</td>\n",
       "      <td>11</td>\n",
       "      <td>60</td>\n",
       "      <td>42</td>\n",
       "      <td>144</td>\n",
       "    </tr>\n",
       "  </tbody>\n",
       "</table>\n",
       "</div>"
      ],
      "text/plain": [
       "park_name            Bryce National Park  Great Smoky Mountains National Park  \\\n",
       "scientific_name                                                                 \n",
       "Grus americana                        24                                   13   \n",
       "Canis rufus                           30                                   13   \n",
       "Vermivora bachmanii                   20                                   18   \n",
       "Noturus baileyi                       22                                   23   \n",
       "Rana sierrae                          31                                   11   \n",
       "\n",
       "park_name            Yellowstone National Park  Yosemite National Park  \\\n",
       "scientific_name                                                          \n",
       "Grus americana                              57                      37   \n",
       "Canis rufus                                 60                      34   \n",
       "Vermivora bachmanii                         58                      45   \n",
       "Noturus baileyi                             67                      31   \n",
       "Rana sierrae                                60                      42   \n",
       "\n",
       "park_name            total_observations  \n",
       "scientific_name                          \n",
       "Grus americana                      131  \n",
       "Canis rufus                         137  \n",
       "Vermivora bachmanii                 141  \n",
       "Noturus baileyi                     143  \n",
       "Rana sierrae                        144  "
      ]
     },
     "execution_count": 23,
     "metadata": {},
     "output_type": "execute_result"
    }
   ],
   "source": [
    "least_observed_total = observed_by_park_pivot.sort_values(by = 'total_observations', ascending = True)\n",
    "least_observed_total.head()"
   ]
  },
  {
   "cell_type": "code",
   "execution_count": 24,
   "metadata": {},
   "outputs": [
    {
     "data": {
      "text/html": [
       "<div>\n",
       "<style scoped>\n",
       "    .dataframe tbody tr th:only-of-type {\n",
       "        vertical-align: middle;\n",
       "    }\n",
       "\n",
       "    .dataframe tbody tr th {\n",
       "        vertical-align: top;\n",
       "    }\n",
       "\n",
       "    .dataframe thead th {\n",
       "        text-align: right;\n",
       "    }\n",
       "</style>\n",
       "<table border=\"1\" class=\"dataframe\">\n",
       "  <thead>\n",
       "    <tr style=\"text-align: right;\">\n",
       "      <th>park_name</th>\n",
       "      <th>Bryce National Park</th>\n",
       "      <th>Great Smoky Mountains National Park</th>\n",
       "      <th>Yellowstone National Park</th>\n",
       "      <th>Yosemite National Park</th>\n",
       "      <th>total_observations</th>\n",
       "    </tr>\n",
       "    <tr>\n",
       "      <th>scientific_name</th>\n",
       "      <th></th>\n",
       "      <th></th>\n",
       "      <th></th>\n",
       "      <th></th>\n",
       "      <th></th>\n",
       "    </tr>\n",
       "  </thead>\n",
       "  <tbody>\n",
       "    <tr>\n",
       "      <th>Columba livia</th>\n",
       "      <td>339</td>\n",
       "      <td>169</td>\n",
       "      <td>722</td>\n",
       "      <td>423</td>\n",
       "      <td>1653</td>\n",
       "    </tr>\n",
       "    <tr>\n",
       "      <th>Puma concolor</th>\n",
       "      <td>311</td>\n",
       "      <td>239</td>\n",
       "      <td>753</td>\n",
       "      <td>408</td>\n",
       "      <td>1711</td>\n",
       "    </tr>\n",
       "    <tr>\n",
       "      <th>Avena sativa</th>\n",
       "      <td>303</td>\n",
       "      <td>171</td>\n",
       "      <td>453</td>\n",
       "      <td>318</td>\n",
       "      <td>1245</td>\n",
       "    </tr>\n",
       "    <tr>\n",
       "      <th>Streptopelia decaocto</th>\n",
       "      <td>301</td>\n",
       "      <td>256</td>\n",
       "      <td>516</td>\n",
       "      <td>457</td>\n",
       "      <td>1530</td>\n",
       "    </tr>\n",
       "    <tr>\n",
       "      <th>Myotis lucifugus</th>\n",
       "      <td>298</td>\n",
       "      <td>174</td>\n",
       "      <td>679</td>\n",
       "      <td>396</td>\n",
       "      <td>1547</td>\n",
       "    </tr>\n",
       "  </tbody>\n",
       "</table>\n",
       "</div>"
      ],
      "text/plain": [
       "park_name              Bryce National Park  \\\n",
       "scientific_name                              \n",
       "Columba livia                          339   \n",
       "Puma concolor                          311   \n",
       "Avena sativa                           303   \n",
       "Streptopelia decaocto                  301   \n",
       "Myotis lucifugus                       298   \n",
       "\n",
       "park_name              Great Smoky Mountains National Park  \\\n",
       "scientific_name                                              \n",
       "Columba livia                                          169   \n",
       "Puma concolor                                          239   \n",
       "Avena sativa                                           171   \n",
       "Streptopelia decaocto                                  256   \n",
       "Myotis lucifugus                                       174   \n",
       "\n",
       "park_name              Yellowstone National Park  Yosemite National Park  \\\n",
       "scientific_name                                                            \n",
       "Columba livia                                722                     423   \n",
       "Puma concolor                                753                     408   \n",
       "Avena sativa                                 453                     318   \n",
       "Streptopelia decaocto                        516                     457   \n",
       "Myotis lucifugus                             679                     396   \n",
       "\n",
       "park_name              total_observations  \n",
       "scientific_name                            \n",
       "Columba livia                        1653  \n",
       "Puma concolor                        1711  \n",
       "Avena sativa                         1245  \n",
       "Streptopelia decaocto                1530  \n",
       "Myotis lucifugus                     1547  "
      ]
     },
     "execution_count": 24,
     "metadata": {},
     "output_type": "execute_result"
    }
   ],
   "source": [
    "most_observed_bryce = observed_by_park_pivot.sort_values(by = 'Bryce National Park', ascending = False)\n",
    "most_observed_bryce.head()"
   ]
  },
  {
   "cell_type": "code",
   "execution_count": 25,
   "metadata": {},
   "outputs": [
    {
     "data": {
      "text/html": [
       "<div>\n",
       "<style scoped>\n",
       "    .dataframe tbody tr th:only-of-type {\n",
       "        vertical-align: middle;\n",
       "    }\n",
       "\n",
       "    .dataframe tbody tr th {\n",
       "        vertical-align: top;\n",
       "    }\n",
       "\n",
       "    .dataframe thead th {\n",
       "        text-align: right;\n",
       "    }\n",
       "</style>\n",
       "<table border=\"1\" class=\"dataframe\">\n",
       "  <thead>\n",
       "    <tr style=\"text-align: right;\">\n",
       "      <th>park_name</th>\n",
       "      <th>Bryce National Park</th>\n",
       "      <th>Great Smoky Mountains National Park</th>\n",
       "      <th>Yellowstone National Park</th>\n",
       "      <th>Yosemite National Park</th>\n",
       "      <th>total_observations</th>\n",
       "    </tr>\n",
       "    <tr>\n",
       "      <th>scientific_name</th>\n",
       "      <th></th>\n",
       "      <th></th>\n",
       "      <th></th>\n",
       "      <th></th>\n",
       "      <th></th>\n",
       "    </tr>\n",
       "  </thead>\n",
       "  <tbody>\n",
       "    <tr>\n",
       "      <th>Streptopelia decaocto</th>\n",
       "      <td>301</td>\n",
       "      <td>256</td>\n",
       "      <td>516</td>\n",
       "      <td>457</td>\n",
       "      <td>1530</td>\n",
       "    </tr>\n",
       "    <tr>\n",
       "      <th>Procyon lotor</th>\n",
       "      <td>247</td>\n",
       "      <td>247</td>\n",
       "      <td>745</td>\n",
       "      <td>453</td>\n",
       "      <td>1692</td>\n",
       "    </tr>\n",
       "    <tr>\n",
       "      <th>Castor canadensis</th>\n",
       "      <td>278</td>\n",
       "      <td>243</td>\n",
       "      <td>703</td>\n",
       "      <td>501</td>\n",
       "      <td>1725</td>\n",
       "    </tr>\n",
       "    <tr>\n",
       "      <th>Puma concolor</th>\n",
       "      <td>311</td>\n",
       "      <td>239</td>\n",
       "      <td>753</td>\n",
       "      <td>408</td>\n",
       "      <td>1711</td>\n",
       "    </tr>\n",
       "    <tr>\n",
       "      <th>Fragaria virginiana</th>\n",
       "      <td>211</td>\n",
       "      <td>217</td>\n",
       "      <td>487</td>\n",
       "      <td>255</td>\n",
       "      <td>1170</td>\n",
       "    </tr>\n",
       "  </tbody>\n",
       "</table>\n",
       "</div>"
      ],
      "text/plain": [
       "park_name              Bryce National Park  \\\n",
       "scientific_name                              \n",
       "Streptopelia decaocto                  301   \n",
       "Procyon lotor                          247   \n",
       "Castor canadensis                      278   \n",
       "Puma concolor                          311   \n",
       "Fragaria virginiana                    211   \n",
       "\n",
       "park_name              Great Smoky Mountains National Park  \\\n",
       "scientific_name                                              \n",
       "Streptopelia decaocto                                  256   \n",
       "Procyon lotor                                          247   \n",
       "Castor canadensis                                      243   \n",
       "Puma concolor                                          239   \n",
       "Fragaria virginiana                                    217   \n",
       "\n",
       "park_name              Yellowstone National Park  Yosemite National Park  \\\n",
       "scientific_name                                                            \n",
       "Streptopelia decaocto                        516                     457   \n",
       "Procyon lotor                                745                     453   \n",
       "Castor canadensis                            703                     501   \n",
       "Puma concolor                                753                     408   \n",
       "Fragaria virginiana                          487                     255   \n",
       "\n",
       "park_name              total_observations  \n",
       "scientific_name                            \n",
       "Streptopelia decaocto                1530  \n",
       "Procyon lotor                        1692  \n",
       "Castor canadensis                    1725  \n",
       "Puma concolor                        1711  \n",
       "Fragaria virginiana                  1170  "
      ]
     },
     "execution_count": 25,
     "metadata": {},
     "output_type": "execute_result"
    }
   ],
   "source": [
    "most_observed_gsmountains = observed_by_park_pivot.sort_values(by = 'Great Smoky Mountains National Park', ascending = False)\n",
    "most_observed_gsmountains.head()"
   ]
  },
  {
   "cell_type": "code",
   "execution_count": 26,
   "metadata": {},
   "outputs": [
    {
     "data": {
      "text/html": [
       "<div>\n",
       "<style scoped>\n",
       "    .dataframe tbody tr th:only-of-type {\n",
       "        vertical-align: middle;\n",
       "    }\n",
       "\n",
       "    .dataframe tbody tr th {\n",
       "        vertical-align: top;\n",
       "    }\n",
       "\n",
       "    .dataframe thead th {\n",
       "        text-align: right;\n",
       "    }\n",
       "</style>\n",
       "<table border=\"1\" class=\"dataframe\">\n",
       "  <thead>\n",
       "    <tr style=\"text-align: right;\">\n",
       "      <th>park_name</th>\n",
       "      <th>Bryce National Park</th>\n",
       "      <th>Great Smoky Mountains National Park</th>\n",
       "      <th>Yellowstone National Park</th>\n",
       "      <th>Yosemite National Park</th>\n",
       "      <th>total_observations</th>\n",
       "    </tr>\n",
       "    <tr>\n",
       "      <th>scientific_name</th>\n",
       "      <th></th>\n",
       "      <th></th>\n",
       "      <th></th>\n",
       "      <th></th>\n",
       "      <th></th>\n",
       "    </tr>\n",
       "  </thead>\n",
       "  <tbody>\n",
       "    <tr>\n",
       "      <th>Holcus lanatus</th>\n",
       "      <td>296</td>\n",
       "      <td>216</td>\n",
       "      <td>805</td>\n",
       "      <td>463</td>\n",
       "      <td>1780</td>\n",
       "    </tr>\n",
       "    <tr>\n",
       "      <th>Puma concolor</th>\n",
       "      <td>311</td>\n",
       "      <td>239</td>\n",
       "      <td>753</td>\n",
       "      <td>408</td>\n",
       "      <td>1711</td>\n",
       "    </tr>\n",
       "    <tr>\n",
       "      <th>Procyon lotor</th>\n",
       "      <td>247</td>\n",
       "      <td>247</td>\n",
       "      <td>745</td>\n",
       "      <td>453</td>\n",
       "      <td>1692</td>\n",
       "    </tr>\n",
       "    <tr>\n",
       "      <th>Hypochaeris radicata</th>\n",
       "      <td>294</td>\n",
       "      <td>195</td>\n",
       "      <td>726</td>\n",
       "      <td>505</td>\n",
       "      <td>1720</td>\n",
       "    </tr>\n",
       "    <tr>\n",
       "      <th>Columba livia</th>\n",
       "      <td>339</td>\n",
       "      <td>169</td>\n",
       "      <td>722</td>\n",
       "      <td>423</td>\n",
       "      <td>1653</td>\n",
       "    </tr>\n",
       "  </tbody>\n",
       "</table>\n",
       "</div>"
      ],
      "text/plain": [
       "park_name             Bryce National Park  \\\n",
       "scientific_name                             \n",
       "Holcus lanatus                        296   \n",
       "Puma concolor                         311   \n",
       "Procyon lotor                         247   \n",
       "Hypochaeris radicata                  294   \n",
       "Columba livia                         339   \n",
       "\n",
       "park_name             Great Smoky Mountains National Park  \\\n",
       "scientific_name                                             \n",
       "Holcus lanatus                                        216   \n",
       "Puma concolor                                         239   \n",
       "Procyon lotor                                         247   \n",
       "Hypochaeris radicata                                  195   \n",
       "Columba livia                                         169   \n",
       "\n",
       "park_name             Yellowstone National Park  Yosemite National Park  \\\n",
       "scientific_name                                                           \n",
       "Holcus lanatus                              805                     463   \n",
       "Puma concolor                               753                     408   \n",
       "Procyon lotor                               745                     453   \n",
       "Hypochaeris radicata                        726                     505   \n",
       "Columba livia                               722                     423   \n",
       "\n",
       "park_name             total_observations  \n",
       "scientific_name                           \n",
       "Holcus lanatus                      1780  \n",
       "Puma concolor                       1711  \n",
       "Procyon lotor                       1692  \n",
       "Hypochaeris radicata                1720  \n",
       "Columba livia                       1653  "
      ]
     },
     "execution_count": 26,
     "metadata": {},
     "output_type": "execute_result"
    }
   ],
   "source": [
    "most_observed_yellowstone = observed_by_park_pivot.sort_values(by = 'Yellowstone National Park', ascending = False)\n",
    "most_observed_yellowstone.head()"
   ]
  },
  {
   "cell_type": "code",
   "execution_count": 27,
   "metadata": {},
   "outputs": [
    {
     "data": {
      "text/html": [
       "<div>\n",
       "<style scoped>\n",
       "    .dataframe tbody tr th:only-of-type {\n",
       "        vertical-align: middle;\n",
       "    }\n",
       "\n",
       "    .dataframe tbody tr th {\n",
       "        vertical-align: top;\n",
       "    }\n",
       "\n",
       "    .dataframe thead th {\n",
       "        text-align: right;\n",
       "    }\n",
       "</style>\n",
       "<table border=\"1\" class=\"dataframe\">\n",
       "  <thead>\n",
       "    <tr style=\"text-align: right;\">\n",
       "      <th>park_name</th>\n",
       "      <th>Bryce National Park</th>\n",
       "      <th>Great Smoky Mountains National Park</th>\n",
       "      <th>Yellowstone National Park</th>\n",
       "      <th>Yosemite National Park</th>\n",
       "      <th>total_observations</th>\n",
       "    </tr>\n",
       "    <tr>\n",
       "      <th>scientific_name</th>\n",
       "      <th></th>\n",
       "      <th></th>\n",
       "      <th></th>\n",
       "      <th></th>\n",
       "      <th></th>\n",
       "    </tr>\n",
       "  </thead>\n",
       "  <tbody>\n",
       "    <tr>\n",
       "      <th>Hypochaeris radicata</th>\n",
       "      <td>294</td>\n",
       "      <td>195</td>\n",
       "      <td>726</td>\n",
       "      <td>505</td>\n",
       "      <td>1720</td>\n",
       "    </tr>\n",
       "    <tr>\n",
       "      <th>Castor canadensis</th>\n",
       "      <td>278</td>\n",
       "      <td>243</td>\n",
       "      <td>703</td>\n",
       "      <td>501</td>\n",
       "      <td>1725</td>\n",
       "    </tr>\n",
       "    <tr>\n",
       "      <th>Holcus lanatus</th>\n",
       "      <td>296</td>\n",
       "      <td>216</td>\n",
       "      <td>805</td>\n",
       "      <td>463</td>\n",
       "      <td>1780</td>\n",
       "    </tr>\n",
       "    <tr>\n",
       "      <th>Streptopelia decaocto</th>\n",
       "      <td>301</td>\n",
       "      <td>256</td>\n",
       "      <td>516</td>\n",
       "      <td>457</td>\n",
       "      <td>1530</td>\n",
       "    </tr>\n",
       "    <tr>\n",
       "      <th>Procyon lotor</th>\n",
       "      <td>247</td>\n",
       "      <td>247</td>\n",
       "      <td>745</td>\n",
       "      <td>453</td>\n",
       "      <td>1692</td>\n",
       "    </tr>\n",
       "  </tbody>\n",
       "</table>\n",
       "</div>"
      ],
      "text/plain": [
       "park_name              Bryce National Park  \\\n",
       "scientific_name                              \n",
       "Hypochaeris radicata                   294   \n",
       "Castor canadensis                      278   \n",
       "Holcus lanatus                         296   \n",
       "Streptopelia decaocto                  301   \n",
       "Procyon lotor                          247   \n",
       "\n",
       "park_name              Great Smoky Mountains National Park  \\\n",
       "scientific_name                                              \n",
       "Hypochaeris radicata                                   195   \n",
       "Castor canadensis                                      243   \n",
       "Holcus lanatus                                         216   \n",
       "Streptopelia decaocto                                  256   \n",
       "Procyon lotor                                          247   \n",
       "\n",
       "park_name              Yellowstone National Park  Yosemite National Park  \\\n",
       "scientific_name                                                            \n",
       "Hypochaeris radicata                         726                     505   \n",
       "Castor canadensis                            703                     501   \n",
       "Holcus lanatus                               805                     463   \n",
       "Streptopelia decaocto                        516                     457   \n",
       "Procyon lotor                                745                     453   \n",
       "\n",
       "park_name              total_observations  \n",
       "scientific_name                            \n",
       "Hypochaeris radicata                 1720  \n",
       "Castor canadensis                    1725  \n",
       "Holcus lanatus                       1780  \n",
       "Streptopelia decaocto                1530  \n",
       "Procyon lotor                        1692  "
      ]
     },
     "execution_count": 27,
     "metadata": {},
     "output_type": "execute_result"
    }
   ],
   "source": [
    "most_observed_yosemite = observed_by_park_pivot.sort_values(by = 'Yosemite National Park', ascending = False)\n",
    "most_observed_yosemite.head()"
   ]
  },
  {
   "cell_type": "code",
   "execution_count": 28,
   "metadata": {},
   "outputs": [
    {
     "data": {
      "text/html": [
       "<div>\n",
       "<style scoped>\n",
       "    .dataframe tbody tr th:only-of-type {\n",
       "        vertical-align: middle;\n",
       "    }\n",
       "\n",
       "    .dataframe tbody tr th {\n",
       "        vertical-align: top;\n",
       "    }\n",
       "\n",
       "    .dataframe thead th {\n",
       "        text-align: right;\n",
       "    }\n",
       "</style>\n",
       "<table border=\"1\" class=\"dataframe\">\n",
       "  <thead>\n",
       "    <tr style=\"text-align: right;\">\n",
       "      <th>park_name</th>\n",
       "      <th>Bryce National Park</th>\n",
       "      <th>Great Smoky Mountains National Park</th>\n",
       "      <th>Yellowstone National Park</th>\n",
       "      <th>Yosemite National Park</th>\n",
       "      <th>total_observations</th>\n",
       "    </tr>\n",
       "    <tr>\n",
       "      <th>scientific_name</th>\n",
       "      <th></th>\n",
       "      <th></th>\n",
       "      <th></th>\n",
       "      <th></th>\n",
       "      <th></th>\n",
       "    </tr>\n",
       "  </thead>\n",
       "  <tbody>\n",
       "    <tr>\n",
       "      <th>Corydalis aurea</th>\n",
       "      <td>9</td>\n",
       "      <td>92</td>\n",
       "      <td>253</td>\n",
       "      <td>141</td>\n",
       "      <td>495</td>\n",
       "    </tr>\n",
       "    <tr>\n",
       "      <th>Vermivora bachmanii</th>\n",
       "      <td>20</td>\n",
       "      <td>18</td>\n",
       "      <td>58</td>\n",
       "      <td>45</td>\n",
       "      <td>141</td>\n",
       "    </tr>\n",
       "    <tr>\n",
       "      <th>Ovis canadensis sierrae</th>\n",
       "      <td>22</td>\n",
       "      <td>25</td>\n",
       "      <td>67</td>\n",
       "      <td>39</td>\n",
       "      <td>153</td>\n",
       "    </tr>\n",
       "    <tr>\n",
       "      <th>Noturus baileyi</th>\n",
       "      <td>22</td>\n",
       "      <td>23</td>\n",
       "      <td>67</td>\n",
       "      <td>31</td>\n",
       "      <td>143</td>\n",
       "    </tr>\n",
       "    <tr>\n",
       "      <th>Chasmistes liorus</th>\n",
       "      <td>23</td>\n",
       "      <td>23</td>\n",
       "      <td>65</td>\n",
       "      <td>35</td>\n",
       "      <td>146</td>\n",
       "    </tr>\n",
       "  </tbody>\n",
       "</table>\n",
       "</div>"
      ],
      "text/plain": [
       "park_name                Bryce National Park  \\\n",
       "scientific_name                                \n",
       "Corydalis aurea                            9   \n",
       "Vermivora bachmanii                       20   \n",
       "Ovis canadensis sierrae                   22   \n",
       "Noturus baileyi                           22   \n",
       "Chasmistes liorus                         23   \n",
       "\n",
       "park_name                Great Smoky Mountains National Park  \\\n",
       "scientific_name                                                \n",
       "Corydalis aurea                                           92   \n",
       "Vermivora bachmanii                                       18   \n",
       "Ovis canadensis sierrae                                   25   \n",
       "Noturus baileyi                                           23   \n",
       "Chasmistes liorus                                         23   \n",
       "\n",
       "park_name                Yellowstone National Park  Yosemite National Park  \\\n",
       "scientific_name                                                              \n",
       "Corydalis aurea                                253                     141   \n",
       "Vermivora bachmanii                             58                      45   \n",
       "Ovis canadensis sierrae                         67                      39   \n",
       "Noturus baileyi                                 67                      31   \n",
       "Chasmistes liorus                               65                      35   \n",
       "\n",
       "park_name                total_observations  \n",
       "scientific_name                              \n",
       "Corydalis aurea                         495  \n",
       "Vermivora bachmanii                     141  \n",
       "Ovis canadensis sierrae                 153  \n",
       "Noturus baileyi                         143  \n",
       "Chasmistes liorus                       146  "
      ]
     },
     "execution_count": 28,
     "metadata": {},
     "output_type": "execute_result"
    }
   ],
   "source": [
    "least_observed_bryce = observed_by_park_pivot.sort_values(by = 'Bryce National Park', ascending = True)\n",
    "least_observed_bryce.head()"
   ]
  },
  {
   "cell_type": "code",
   "execution_count": 29,
   "metadata": {},
   "outputs": [
    {
     "data": {
      "text/html": [
       "<div>\n",
       "<style scoped>\n",
       "    .dataframe tbody tr th:only-of-type {\n",
       "        vertical-align: middle;\n",
       "    }\n",
       "\n",
       "    .dataframe tbody tr th {\n",
       "        vertical-align: top;\n",
       "    }\n",
       "\n",
       "    .dataframe thead th {\n",
       "        text-align: right;\n",
       "    }\n",
       "</style>\n",
       "<table border=\"1\" class=\"dataframe\">\n",
       "  <thead>\n",
       "    <tr style=\"text-align: right;\">\n",
       "      <th>park_name</th>\n",
       "      <th>Bryce National Park</th>\n",
       "      <th>Great Smoky Mountains National Park</th>\n",
       "      <th>Yellowstone National Park</th>\n",
       "      <th>Yosemite National Park</th>\n",
       "      <th>total_observations</th>\n",
       "    </tr>\n",
       "    <tr>\n",
       "      <th>scientific_name</th>\n",
       "      <th></th>\n",
       "      <th></th>\n",
       "      <th></th>\n",
       "      <th></th>\n",
       "      <th></th>\n",
       "    </tr>\n",
       "  </thead>\n",
       "  <tbody>\n",
       "    <tr>\n",
       "      <th>Collomia tinctoria</th>\n",
       "      <td>81</td>\n",
       "      <td>10</td>\n",
       "      <td>242</td>\n",
       "      <td>208</td>\n",
       "      <td>541</td>\n",
       "    </tr>\n",
       "    <tr>\n",
       "      <th>Rana sierrae</th>\n",
       "      <td>31</td>\n",
       "      <td>11</td>\n",
       "      <td>60</td>\n",
       "      <td>42</td>\n",
       "      <td>144</td>\n",
       "    </tr>\n",
       "    <tr>\n",
       "      <th>Strix occidentalis</th>\n",
       "      <td>88</td>\n",
       "      <td>11</td>\n",
       "      <td>252</td>\n",
       "      <td>151</td>\n",
       "      <td>502</td>\n",
       "    </tr>\n",
       "    <tr>\n",
       "      <th>Sambucus mexicana</th>\n",
       "      <td>127</td>\n",
       "      <td>12</td>\n",
       "      <td>232</td>\n",
       "      <td>141</td>\n",
       "      <td>512</td>\n",
       "    </tr>\n",
       "    <tr>\n",
       "      <th>Seiurus aurocapilla</th>\n",
       "      <td>86</td>\n",
       "      <td>13</td>\n",
       "      <td>216</td>\n",
       "      <td>136</td>\n",
       "      <td>451</td>\n",
       "    </tr>\n",
       "  </tbody>\n",
       "</table>\n",
       "</div>"
      ],
      "text/plain": [
       "park_name            Bryce National Park  Great Smoky Mountains National Park  \\\n",
       "scientific_name                                                                 \n",
       "Collomia tinctoria                    81                                   10   \n",
       "Rana sierrae                          31                                   11   \n",
       "Strix occidentalis                    88                                   11   \n",
       "Sambucus mexicana                    127                                   12   \n",
       "Seiurus aurocapilla                   86                                   13   \n",
       "\n",
       "park_name            Yellowstone National Park  Yosemite National Park  \\\n",
       "scientific_name                                                          \n",
       "Collomia tinctoria                         242                     208   \n",
       "Rana sierrae                                60                      42   \n",
       "Strix occidentalis                         252                     151   \n",
       "Sambucus mexicana                          232                     141   \n",
       "Seiurus aurocapilla                        216                     136   \n",
       "\n",
       "park_name            total_observations  \n",
       "scientific_name                          \n",
       "Collomia tinctoria                  541  \n",
       "Rana sierrae                        144  \n",
       "Strix occidentalis                  502  \n",
       "Sambucus mexicana                   512  \n",
       "Seiurus aurocapilla                 451  "
      ]
     },
     "execution_count": 29,
     "metadata": {},
     "output_type": "execute_result"
    }
   ],
   "source": [
    "least_observed_gsmountains = observed_by_park_pivot.sort_values(by = 'Great Smoky Mountains National Park', ascending = True)\n",
    "least_observed_gsmountains.head()"
   ]
  },
  {
   "cell_type": "markdown",
   "metadata": {},
   "source": [
    "This information (specially about the species that were the least seen) was really useful, but I needed some context. Which was the situation of these species? I created a function to throw the scientific name and get in return its information."
   ]
  },
  {
   "cell_type": "code",
   "execution_count": 30,
   "metadata": {},
   "outputs": [
    {
     "data": {
      "text/html": [
       "<div>\n",
       "<style scoped>\n",
       "    .dataframe tbody tr th:only-of-type {\n",
       "        vertical-align: middle;\n",
       "    }\n",
       "\n",
       "    .dataframe tbody tr th {\n",
       "        vertical-align: top;\n",
       "    }\n",
       "\n",
       "    .dataframe thead th {\n",
       "        text-align: right;\n",
       "    }\n",
       "</style>\n",
       "<table border=\"1\" class=\"dataframe\">\n",
       "  <thead>\n",
       "    <tr style=\"text-align: right;\">\n",
       "      <th></th>\n",
       "      <th>index</th>\n",
       "      <th>category</th>\n",
       "      <th>scientific_name</th>\n",
       "      <th>common_names</th>\n",
       "      <th>conservation_status</th>\n",
       "      <th>is_in_danger</th>\n",
       "    </tr>\n",
       "  </thead>\n",
       "  <tbody>\n",
       "    <tr>\n",
       "      <th>4141</th>\n",
       "      <td>4310</td>\n",
       "      <td>Vascular Plant</td>\n",
       "      <td>Corydalis aurea</td>\n",
       "      <td>Golden Corydalis, Scrambled Eggs</td>\n",
       "      <td>Not in danger</td>\n",
       "      <td>False</td>\n",
       "    </tr>\n",
       "  </tbody>\n",
       "</table>\n",
       "</div>"
      ],
      "text/plain": [
       "      index        category  scientific_name  \\\n",
       "4141   4310  Vascular Plant  Corydalis aurea   \n",
       "\n",
       "                          common_names conservation_status  is_in_danger  \n",
       "4141  Golden Corydalis, Scrambled Eggs       Not in danger         False  "
      ]
     },
     "execution_count": 30,
     "metadata": {},
     "output_type": "execute_result"
    }
   ],
   "source": [
    "def search_info(species_name):\n",
    "    return species_info[species_info.scientific_name == species_name]\n",
    "\n",
    "search_info('Corydalis aurea')"
   ]
  },
  {
   "cell_type": "code",
   "execution_count": 31,
   "metadata": {},
   "outputs": [
    {
     "data": {
      "text/html": [
       "<div>\n",
       "<style scoped>\n",
       "    .dataframe tbody tr th:only-of-type {\n",
       "        vertical-align: middle;\n",
       "    }\n",
       "\n",
       "    .dataframe tbody tr th {\n",
       "        vertical-align: top;\n",
       "    }\n",
       "\n",
       "    .dataframe thead th {\n",
       "        text-align: right;\n",
       "    }\n",
       "</style>\n",
       "<table border=\"1\" class=\"dataframe\">\n",
       "  <thead>\n",
       "    <tr style=\"text-align: right;\">\n",
       "      <th></th>\n",
       "      <th>index</th>\n",
       "      <th>category</th>\n",
       "      <th>scientific_name</th>\n",
       "      <th>common_names</th>\n",
       "      <th>conservation_status</th>\n",
       "      <th>is_in_danger</th>\n",
       "    </tr>\n",
       "  </thead>\n",
       "  <tbody>\n",
       "    <tr>\n",
       "      <th>4854</th>\n",
       "      <td>5095</td>\n",
       "      <td>Vascular Plant</td>\n",
       "      <td>Collomia tinctoria</td>\n",
       "      <td>Staining Collomia, Yellowstain Collomia</td>\n",
       "      <td>Not in danger</td>\n",
       "      <td>False</td>\n",
       "    </tr>\n",
       "  </tbody>\n",
       "</table>\n",
       "</div>"
      ],
      "text/plain": [
       "      index        category     scientific_name  \\\n",
       "4854   5095  Vascular Plant  Collomia tinctoria   \n",
       "\n",
       "                                 common_names conservation_status  \\\n",
       "4854  Staining Collomia, Yellowstain Collomia       Not in danger   \n",
       "\n",
       "      is_in_danger  \n",
       "4854         False  "
      ]
     },
     "execution_count": 31,
     "metadata": {},
     "output_type": "execute_result"
    }
   ],
   "source": [
    "search_info('Collomia tinctoria')"
   ]
  },
  {
   "cell_type": "code",
   "execution_count": 32,
   "metadata": {},
   "outputs": [
    {
     "data": {
      "text/html": [
       "<div>\n",
       "<style scoped>\n",
       "    .dataframe tbody tr th:only-of-type {\n",
       "        vertical-align: middle;\n",
       "    }\n",
       "\n",
       "    .dataframe tbody tr th {\n",
       "        vertical-align: top;\n",
       "    }\n",
       "\n",
       "    .dataframe thead th {\n",
       "        text-align: right;\n",
       "    }\n",
       "</style>\n",
       "<table border=\"1\" class=\"dataframe\">\n",
       "  <thead>\n",
       "    <tr style=\"text-align: right;\">\n",
       "      <th></th>\n",
       "      <th>index</th>\n",
       "      <th>category</th>\n",
       "      <th>scientific_name</th>\n",
       "      <th>common_names</th>\n",
       "      <th>conservation_status</th>\n",
       "      <th>is_in_danger</th>\n",
       "    </tr>\n",
       "  </thead>\n",
       "  <tbody>\n",
       "    <tr>\n",
       "      <th>9</th>\n",
       "      <td>9</td>\n",
       "      <td>Mammal</td>\n",
       "      <td>Canis rufus</td>\n",
       "      <td>Red Wolf</td>\n",
       "      <td>Endangered</td>\n",
       "      <td>True</td>\n",
       "    </tr>\n",
       "  </tbody>\n",
       "</table>\n",
       "</div>"
      ],
      "text/plain": [
       "   index category scientific_name common_names conservation_status  \\\n",
       "9      9   Mammal     Canis rufus     Red Wolf          Endangered   \n",
       "\n",
       "   is_in_danger  \n",
       "9          True  "
      ]
     },
     "execution_count": 32,
     "metadata": {},
     "output_type": "execute_result"
    }
   ],
   "source": [
    "search_info('Canis rufus')"
   ]
  },
  {
   "cell_type": "code",
   "execution_count": 33,
   "metadata": {},
   "outputs": [
    {
     "data": {
      "text/html": [
       "<div>\n",
       "<style scoped>\n",
       "    .dataframe tbody tr th:only-of-type {\n",
       "        vertical-align: middle;\n",
       "    }\n",
       "\n",
       "    .dataframe tbody tr th {\n",
       "        vertical-align: top;\n",
       "    }\n",
       "\n",
       "    .dataframe thead th {\n",
       "        text-align: right;\n",
       "    }\n",
       "</style>\n",
       "<table border=\"1\" class=\"dataframe\">\n",
       "  <thead>\n",
       "    <tr style=\"text-align: right;\">\n",
       "      <th></th>\n",
       "      <th>index</th>\n",
       "      <th>category</th>\n",
       "      <th>scientific_name</th>\n",
       "      <th>common_names</th>\n",
       "      <th>conservation_status</th>\n",
       "      <th>is_in_danger</th>\n",
       "    </tr>\n",
       "  </thead>\n",
       "  <tbody>\n",
       "    <tr>\n",
       "      <th>173</th>\n",
       "      <td>173</td>\n",
       "      <td>Bird</td>\n",
       "      <td>Grus americana</td>\n",
       "      <td>Whooping Crane</td>\n",
       "      <td>Endangered</td>\n",
       "      <td>True</td>\n",
       "    </tr>\n",
       "  </tbody>\n",
       "</table>\n",
       "</div>"
      ],
      "text/plain": [
       "     index category scientific_name    common_names conservation_status  \\\n",
       "173    173     Bird  Grus americana  Whooping Crane          Endangered   \n",
       "\n",
       "     is_in_danger  \n",
       "173          True  "
      ]
     },
     "execution_count": 33,
     "metadata": {},
     "output_type": "execute_result"
    }
   ],
   "source": [
    "search_info('Grus americana')"
   ]
  },
  {
   "cell_type": "markdown",
   "metadata": {},
   "source": [
    "## Conclusion\n",
    "\n",
    "All the analysis done led me to the following findings:\n",
    "\n",
    "- Of the 5541 species of the dataset, 178 were in a danger situation (only a 3%).\n",
    "- Most of the species in danger are in a species of concern status, and only 3 of the 178 are in recovery right now.\n",
    "- Birds, vascular plants and mammals are the three categories more endangered in this dataset. Even though there is a huge amount of vascular plants on this dataset, there are more bird species that need attention.\n",
    "- There three species in recovery are birds. It is still a small percentage if we compare to how many birds are in danger.\n",
    "- Birds and mammals have more than 15% of their species in a danger situation. This number seems to be critic and need attention.\n",
    "- The Chi Square Tests conducted before made me reasonably sure that mammals have more tendency to become endangered than reptiles, and the same goes to the birds over the fish species.\n",
    "- Yellowstone was the park with the most observation of species in the last seven days.\n",
    "- The Holcus Lanatus was the species more seen in the last seven days, because of their high number of observations in Yellowstone and in Yosemite.\n",
    "- The Grus americana, an endangered bird, was the least seen at the parks. The second one, the Canis rufus, is also endangered.\n",
    "- The two species with the least observations at one specific park are not endangered. The possible explanation is that the two biggest parks hosts a bigger number of species individuals.  "
   ]
  },
  {
   "cell_type": "markdown",
   "metadata": {},
   "source": [
    "## Questions to solve in the future\n",
    "\n",
    "This items can be further analyzed with a more contextual information or in future investigations:\n",
    "\n",
    "- Are the number of species in danger increasing? Or this number decreased over the latest days/months?\n",
    "- How big are the four parks? Is Yellowstone so much bigger than the rest of them? Is that the answer to why most observations are made there?\n",
    "- The Corydalis aurea was only seen nine times in seven days at the Bryce National Park. An additional study can be conducted at that park to see if it is on it way to be extinct there. However, it has been spotted a lot of times in the other parks."
   ]
  }
 ],
 "metadata": {
  "kernelspec": {
   "display_name": "Python 3",
   "language": "python",
   "name": "python3"
  },
  "language_info": {
   "codemirror_mode": {
    "name": "ipython",
    "version": 3
   },
   "file_extension": ".py",
   "mimetype": "text/x-python",
   "name": "python",
   "nbconvert_exporter": "python",
   "pygments_lexer": "ipython3",
   "version": "3.8.3"
  }
 },
 "nbformat": 4,
 "nbformat_minor": 4
}
